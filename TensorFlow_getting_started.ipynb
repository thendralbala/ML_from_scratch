{
  "nbformat": 4,
  "nbformat_minor": 0,
  "metadata": {
    "colab": {
      "provenance": [],
      "authorship_tag": "ABX9TyNkDc14X4GvJ2H/5FtGbpI0",
      "include_colab_link": true
    },
    "kernelspec": {
      "name": "python3",
      "display_name": "Python 3"
    },
    "language_info": {
      "name": "python"
    }
  },
  "cells": [
    {
      "cell_type": "markdown",
      "metadata": {
        "id": "view-in-github",
        "colab_type": "text"
      },
      "source": [
        "<a href=\"https://colab.research.google.com/github/thendralbala/ML_from_scratch/blob/main/TensorFlow_getting_started.ipynb\" target=\"_parent\"><img src=\"https://colab.research.google.com/assets/colab-badge.svg\" alt=\"Open In Colab\"/></a>"
      ]
    },
    {
      "cell_type": "markdown",
      "source": [
        "**What is TensorFlow?**\n",
        "\n",
        "TensorFlow is an open-source library developed by Google for numerical computation, particularly well-suited for large-scale machine learning tasks. It's based on the concept of data flow graphs, where nodes represent mathematical operations and edges represent the flow of data (tensors) between them.\n",
        "\n",
        "\n",
        "\n",
        "1.   Define Variables:\n",
        "\n",
        "    x = tf.Variable(3, name='x') and y = tf.Variable(4, name='y') create two variables, x and y, initialized with values 3 and 4, respectively. These variables are managed by TensorFlow and can be updated during computation.\n",
        "\n",
        "2.   Define Computation:\n",
        "\n",
        "    f = x*x*y + y + 2 defines a computation graph where f is the result of a series of operations on x and y. This graph represents the symbolic relationship between the variables and operations.\n",
        "3. Execution:\n",
        "\n",
        "\n",
        "*   TensorFlow uses a concept called \"eager execution\" by default, where operations are executed immediately.\n",
        "*   When f.numpy() is called, TensorFlow evaluates the computation graph with the current values of x and y, resulting in a numerical value (42 in this case).\n",
        "*   print(result) then displays the result.\n",
        "\n",
        "\n",
        "In essence, TensorFlow creates a computational graph, manages variables, and executes the graph to produce numerical results. This approach enables efficient computation, especially for complex machine learning models."
      ],
      "metadata": {
        "id": "d5RnKkorbKXJ"
      }
    },
    {
      "cell_type": "markdown",
      "source": [
        "There are mainly two parts in a TensorFlow program: Construction phase and Execution phase.\n",
        "\n",
        "1. Construction Phase:\n",
        "  *     The contruction phase typically builds a graph to represent the ML model and the computations required to train it\n",
        "  *   TenshorFlow functions are used to create tensors (multi-dimensional arrays) and define mathematical operations on them\n",
        "  *   This creates a symbolic representation of your computation, like a blueprint.\n",
        "\n",
        "2. Execution Phase\n",
        "  *   The execution phase generally runs a loop that evaluates a training step repeatedly, gradually improving the model parameters.\n",
        "  *   TensorFlow session manages the execution environment.\n",
        "  *   Within the session, tensor evaluation is done, operations can be run and results can be fetched.\n",
        "  *   With eager execution, operations ar executed immediately, so there is no need to define a session explicitly for simle computations."
      ],
      "metadata": {
        "id": "VBq2UicXcuX7"
      }
    },
    {
      "cell_type": "code",
      "execution_count": 1,
      "metadata": {
        "id": "duf-CLjmaAQ1"
      },
      "outputs": [],
      "source": [
        "import tensorflow as tf"
      ]
    },
    {
      "cell_type": "code",
      "source": [
        "x = tf.Variable(3, name = 'x')\n",
        "y = tf.Variable(4, name = 'y')\n",
        "f = x*x*y + y + 2"
      ],
      "metadata": {
        "id": "0YTjDLrDaIKW"
      },
      "execution_count": 2,
      "outputs": []
    },
    {
      "cell_type": "code",
      "source": [
        "result = f.numpy()\n",
        "print(result)"
      ],
      "metadata": {
        "colab": {
          "base_uri": "https://localhost:8080/"
        },
        "id": "s3UPTh_OaXtS",
        "outputId": "0da12378-e015-42c8-81cf-567b32b23259"
      },
      "execution_count": 5,
      "outputs": [
        {
          "output_type": "stream",
          "name": "stdout",
          "text": [
            "42\n"
          ]
        }
      ]
    },
    {
      "cell_type": "markdown",
      "source": [
        "**Linear Regression with Tensorflow**\n"
      ],
      "metadata": {
        "id": "zgZhP5IZel_9"
      }
    },
    {
      "cell_type": "code",
      "source": [
        "import numpy as np\n",
        "from sklearn.datasets import fetch_california_housing\n"
      ],
      "metadata": {
        "id": "BAeqMw9Kgxln"
      },
      "execution_count": 6,
      "outputs": []
    },
    {
      "cell_type": "code",
      "source": [
        "housing  = fetch_california_housing()\n",
        "m, n = housing.data.shape\n",
        "\n",
        "housing_data_plus_bias = np.c_[np.ones((m,1)), housing.data]\n"
      ],
      "metadata": {
        "id": "ngv8I1KKg609"
      },
      "execution_count": 15,
      "outputs": []
    },
    {
      "cell_type": "code",
      "source": [
        "X = tf.constant(housing_data_plus_bias, dtype = tf.float32, name = \"X\")\n",
        "y = tf.constant(housing.target.reshape(-1,1), dtype = tf.float32, name = \"y\")\n",
        "XT = tf.transpose(X)\n",
        "theta = tf.matmul(tf.matmul(tf.linalg.inv(tf.matmul(XT,X)),XT),y)\n",
        "\n",
        "\n",
        "theta_value = theta.numpy()\n",
        "\n",
        "print(theta_value)\n"
      ],
      "metadata": {
        "colab": {
          "base_uri": "https://localhost:8080/"
        },
        "id": "mdjEDDysjHfa",
        "outputId": "3d70bd5a-c5b6-4abf-a512-c59d3149e18b"
      },
      "execution_count": 19,
      "outputs": [
        {
          "output_type": "stream",
          "name": "stdout",
          "text": [
            "[[-3.7144665e+01]\n",
            " [ 4.3637392e-01]\n",
            " [ 9.3933418e-03]\n",
            " [-1.0714764e-01]\n",
            " [ 6.4542186e-01]\n",
            " [-4.1016874e-06]\n",
            " [-3.7816020e-03]\n",
            " [-4.2341197e-01]\n",
            " [-4.3682083e-01]]\n"
          ]
        }
      ]
    }
  ]
}