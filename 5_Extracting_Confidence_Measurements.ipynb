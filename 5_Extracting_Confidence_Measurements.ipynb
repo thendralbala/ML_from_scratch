{
  "nbformat": 4,
  "nbformat_minor": 0,
  "metadata": {
    "colab": {
      "provenance": [],
      "authorship_tag": "ABX9TyOU/R1OF5yacBsWG95aKRid",
      "include_colab_link": true
    },
    "kernelspec": {
      "name": "python3",
      "display_name": "Python 3"
    },
    "language_info": {
      "name": "python"
    }
  },
  "cells": [
    {
      "cell_type": "markdown",
      "metadata": {
        "id": "view-in-github",
        "colab_type": "text"
      },
      "source": [
        "<a href=\"https://colab.research.google.com/github/thendralbala/ML_from_scratch/blob/main/5_Extracting_Confidence_Measurements.ipynb\" target=\"_parent\"><img src=\"https://colab.research.google.com/assets/colab-badge.svg\" alt=\"Open In Colab\"/></a>"
      ]
    },
    {
      "cell_type": "markdown",
      "source": [
        "#Extracting Confidence Measurements"
      ],
      "metadata": {
        "id": "Asx0HBuYJaJ6"
      }
    },
    {
      "cell_type": "code",
      "execution_count": 6,
      "metadata": {
        "id": "u2ZFGuFz5MV7"
      },
      "outputs": [],
      "source": [
        "import numpy as np\n",
        "import matplotlib.pyplot as plt\n",
        "from sklearn.svm import SVC\n",
        "from sklearn.model_selection import train_test_split"
      ]
    },
    {
      "cell_type": "code",
      "source": [
        "def load_data(input_file):\n",
        "  X = []\n",
        "  y = []\n",
        "\n",
        "  with open(input_file,'r') as f:\n",
        "    for line in f.readlines():\n",
        "      data = [float(x) for x in line.split(',')]\n",
        "      X.append(data[:-1])\n",
        "      y.append(data[-1])\n",
        "\n",
        "  X = np.array(X)\n",
        "  y = np.array(y)\n",
        "\n",
        "\n",
        "  return X,y\n"
      ],
      "metadata": {
        "id": "o4P-3OxJFZPh"
      },
      "execution_count": 4,
      "outputs": []
    },
    {
      "cell_type": "code",
      "source": [
        "def plot_classifier(classifier, X, y, title='Classifier boundaries', annotate=False):\n",
        "    # define ranges to plot the figure\n",
        "    x_min, x_max = min(X[:, 0]) - 1.0, max(X[:, 0]) + 1.0\n",
        "    y_min, y_max = min(X[:, 1]) - 1.0, max(X[:, 1]) + 1.0\n",
        "\n",
        "    # denotes the step size that will be used in the mesh grid\n",
        "    step_size = 0.01\n",
        "\n",
        "    # define the mesh grid\n",
        "    x_values, y_values = np.meshgrid(np.arange(x_min, x_max, step_size), np.arange(y_min, y_max, step_size))\n",
        "\n",
        "    # compute the classifier output\n",
        "    mesh_output = classifier.predict(np.c_[x_values.ravel(), y_values.ravel()])\n",
        "\n",
        "    # reshape the array\n",
        "    mesh_output = mesh_output.reshape(x_values.shape)\n",
        "\n",
        "    # Plot the output using a colored plot\n",
        "    plt.figure()\n",
        "\n",
        "    # Set the title\n",
        "    plt.title(title)\n",
        "\n",
        "    # choose a color scheme you can find all the options\n",
        "    # here: http://matplotlib.org/examples/color/colormaps_reference.html\n",
        "    plt.pcolormesh(x_values, y_values, mesh_output, cmap=plt.cm.gray)\n",
        "\n",
        "    # Overlay the training points on the plot\n",
        "    plt.scatter(X[:, 0], X[:, 1], c=y, s=80, edgecolors='black', linewidth=1, cmap=plt.cm.Paired)\n",
        "\n",
        "    # specify the boundaries of the figure\n",
        "    plt.xlim(x_values.min(), x_values.max())\n",
        "    plt.ylim(y_values.min(), y_values.max())\n",
        "\n",
        "    # specify the ticks on the X and Y axes\n",
        "    plt.xticks(())\n",
        "    plt.yticks(())\n",
        "\n",
        "    if annotate:\n",
        "        for x, y in zip(X[:, 0], X[:, 1]):\n",
        "            # Full documentation of the function available here:\n",
        "            # http://matplotlib.org/api/text_api.html#matplotlib.text.Annotation\n",
        "            plt.annotate(\n",
        "                '(' + str(round(x, 1)) + ',' + str(round(y, 1)) + ')',\n",
        "                xy = (x, y), xytext = (-15, 15),\n",
        "                textcoords = 'offset points',\n",
        "                horizontalalignment = 'right',\n",
        "                verticalalignment = 'bottom',\n",
        "                bbox = dict(boxstyle = 'round,pad=0.6', fc = 'white', alpha = 0.8),\n",
        "                arrowprops = dict(arrowstyle = '-', connectionstyle = 'arc3,rad=0'))"
      ],
      "metadata": {
        "id": "auzZM-sxIcj8"
      },
      "execution_count": 13,
      "outputs": []
    },
    {
      "cell_type": "code",
      "source": [
        "input_file = 'data_multivar.txt'\n",
        "X, y = load_data(input_file)\n",
        "\n",
        "X_train, X_test, y_train, y_test = train_test_split(X,y, test_size = 0.2, random_state = 42)\n",
        "classifier = SVC(kernel = 'rbf')\n",
        "classifier.fit(X_train, y_train)"
      ],
      "metadata": {
        "id": "GMR7HwfVGOt9"
      },
      "execution_count": 5,
      "outputs": []
    },
    {
      "cell_type": "markdown",
      "source": [
        "`decision_function:` This function provides a signed distance of a data point to the decision boundary. A positive value indicates the point is on the side of the hyperplane assigned to the positive class, while a negative value indicates the opposite. Larger absolute values imply higher confidence in the classification."
      ],
      "metadata": {
        "id": "boqPi9I3I-pA"
      }
    },
    {
      "cell_type": "code",
      "source": [
        "input_datapoints = np.array([[2, 1.5], [8,9], [4.8, 5.2], [4,4], [2.5,7], [7.6,2], [5.4,5.9]])\n",
        "print(\"Distance from the boundary:\")\n",
        "for i in input_datapoints:\n",
        "  print(i, '-->', classifier.decision_function([i])[0])"
      ],
      "metadata": {
        "colab": {
          "base_uri": "https://localhost:8080/"
        },
        "id": "s__5TJZpG26-",
        "outputId": "6db0fdc7-cc27-4d3c-abce-4df963efca87"
      },
      "execution_count": 10,
      "outputs": [
        {
          "output_type": "stream",
          "name": "stdout",
          "text": [
            "Distance from the boundary:\n",
            "[2.  1.5] --> 1.272654331986262\n",
            "[8. 9.] --> 0.7849150445463313\n",
            "[4.8 5.2] --> -1.862280327774372\n",
            "[4. 4.] --> -0.16763605816348237\n",
            "[2.5 7. ] --> 0.7490935853523655\n",
            "[7.6 2. ] --> 1.7334078304727718\n",
            "[5.4 5.9] --> -1.3692112254603999\n"
          ]
        }
      ]
    },
    {
      "cell_type": "markdown",
      "source": [
        "SVCs typically output a decision function value, which represents the distance of a data point from the decision boundary. This value is not a probability. By applying Platt scaling, you can transform the decision function values into probability estimates, making the SVC's output more interpretable and useful for decision-making."
      ],
      "metadata": {
        "id": "lQA8e82AKHRL"
      }
    },
    {
      "cell_type": "markdown",
      "source": [
        "`predict_proba:` This function estimates the probability of a data point belonging to each class. It requires setting probability=True when initializing the SVC model.\n",
        "This internally enables Platt scaling to provide probability estimates using predict_proba."
      ],
      "metadata": {
        "id": "vy8RJdBPJGtn"
      }
    },
    {
      "cell_type": "code",
      "source": [
        "classifier = SVC(kernel = 'rbf', probability = True)\n",
        "classifier.fit(X_train, y_train)\n",
        "\n",
        "print(\"Confidence measure:\")\n",
        "for i in input_datapoints:\n",
        "  print(i, '-->', classifier.predict_proba([i])[0])\n"
      ],
      "metadata": {
        "colab": {
          "base_uri": "https://localhost:8080/"
        },
        "id": "tI5T79XTHZ-4",
        "outputId": "f1862353-cea1-4cb7-c1b3-d9bb645f8899"
      },
      "execution_count": 12,
      "outputs": [
        {
          "output_type": "stream",
          "name": "stdout",
          "text": [
            "Confidence measure:\n",
            "[2.  1.5] --> [0.02850713 0.97149287]\n",
            "[8. 9.] --> [0.09692791 0.90307209]\n",
            "[4.8 5.2] --> [0.99189531 0.00810469]\n",
            "[4. 4.] --> [0.57544595 0.42455405]\n",
            "[2.5 7. ] --> [0.10560633 0.89439367]\n",
            "[7.6 2. ] --> [0.00854007 0.99145993]\n",
            "[5.4 5.9] --> [0.9700135 0.0299865]\n"
          ]
        }
      ]
    },
    {
      "cell_type": "markdown",
      "source": [
        "By combining the confidence measurements (decision_function, predict_proba) and the visualization from the plot, you can gain a deeper understanding of how the SVC classifier is making its predictions and the level of confidence associated with those predictions. This information can be valuable for assessing the model's performance and identifying potential areas for improvement."
      ],
      "metadata": {
        "id": "8tXbWoIwJX50"
      }
    },
    {
      "cell_type": "code",
      "source": [
        "plot_classifier(classifier, input_datapoints, [0]*len(input_datapoints), 'Input datapoints', 'True')\n",
        "plt.show()"
      ],
      "metadata": {
        "colab": {
          "base_uri": "https://localhost:8080/",
          "height": 428
        },
        "id": "iRA4EbXZIKRG",
        "outputId": "6c006a37-0bf6-428c-fb26-0366dbbba9d3"
      },
      "execution_count": 14,
      "outputs": [
        {
          "output_type": "display_data",
          "data": {
            "text/plain": [
              "<Figure size 640x480 with 1 Axes>"
            ],
            "image/png": "[encoded data removed]"
          },
          "metadata": {}
        }
      ]
    }
  ]
}